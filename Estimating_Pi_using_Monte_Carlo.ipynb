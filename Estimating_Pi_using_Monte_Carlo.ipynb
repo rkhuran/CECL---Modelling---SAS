{
  "nbformat": 4,
  "nbformat_minor": 0,
  "metadata": {
    "colab": {
      "name": "Estimating Pi using Monte Carlo.ipynb",
      "provenance": [],
      "authorship_tag": "ABX9TyNPBbCm6x4FhKhZp49vNy2d",
      "include_colab_link": true
    },
    "kernelspec": {
      "name": "python3",
      "display_name": "Python 3"
    }
  },
  "cells": [
    {
      "cell_type": "markdown",
      "metadata": {
        "id": "view-in-github",
        "colab_type": "text"
      },
      "source": [
        "<a href=\"https://colab.research.google.com/github/rkhuran/CECL---Modelling---SAS/blob/master/Estimating_Pi_using_Monte_Carlo.ipynb\" target=\"_parent\"><img src=\"https://colab.research.google.com/assets/colab-badge.svg\" alt=\"Open In Colab\"/></a>"
      ]
    },
    {
      "cell_type": "code",
      "metadata": {
        "id": "qqBmKGV8eLSf",
        "colab_type": "code",
        "colab": {}
      },
      "source": [
        "import numpy as np\n",
        "import math"
      ],
      "execution_count": 0,
      "outputs": []
    },
    {
      "cell_type": "code",
      "metadata": {
        "id": "FoXZPNZ_eThv",
        "colab_type": "code",
        "outputId": "ace5b433-2502-43d7-9467-3756fc2f1ab8",
        "colab": {
          "base_uri": "https://localhost:8080/",
          "height": 101
        }
      },
      "source": [
        "N=10000000 #simulation run\n",
        "#As per the given definitions of U1, U2, V1, V2\n",
        "U1 = np.array(np.random.uniform(0,1,N))\n",
        "U2 = np.array(np.random.uniform(0,1,N))\n",
        "\n",
        "\n",
        "#Given\n",
        "V1 = 2*U1 - 1\n",
        "V2 = 2*U2 - 1\n",
        "\n",
        "#Estimating Variance \n",
        "\n",
        "X = [0]*N  #Definition of Indicator Variable\n",
        "\n",
        "for i in range(N):\n",
        "  if(V1[i]**2 + V2[i]**2 <= 1):\n",
        "    X[i] = 1\n",
        "\n",
        "print(\"As per Crude Monte Carlo Method, value of pi is\", (4*np.mean(X)).round(4), \"with variance of\", np.var(X).round(4))\n",
        "\n",
        "# Improved Estimator of using Antithetic Variable\n",
        "antvar= [0.0]*N\n",
        "y = np.array([0.0]*N) \n",
        "y_bar = np.array([0.0]*N)\n",
        "for i in range(N):\n",
        "  y[i] = np.sqrt(1- U1[i]**2) #root(1-v^2)\n",
        "  y_bar[i] = np.sqrt(1-(1-U1[i])**2) #root(1-(1-v)^2)\n",
        "  antvar[i] = 0.5*(y[i] + y_bar[i])\n",
        "\n",
        "antvar_var = 0.5*(np.var(y) + np.mean(y.T * y_bar) - np.mean(y)*np.mean(y_bar))\n",
        "print(\"Improved Estimator using Antithetic Variable, value of pi is\", (4*np.mean(antvar)).round(4), \"with variance of\", antvar_var.round(4))\n",
        "\n",
        "#Improved Estimator of using Control Variate\n",
        "X = [0]*N\n",
        "USq=[0]*N\n",
        "\n",
        "for i in range(N):\n",
        "  X[i] = np.sqrt(1 - V1[i]**2)\n",
        "  USq[i]=V1[i]**2\n",
        "  \n",
        "\n",
        "X = np.array(X)\n",
        "USq=np.array(USq)\n",
        "\n",
        "covar_1 = np.mean(V1.T * X) - np.mean(V1)*np.mean(X)\n",
        "covar_2 = np.mean(USq.T * X) - np.mean(USq)*np.mean(X)\n",
        "  \n",
        "c_star_1 = - (covar_1/np.var(V1))\n",
        "c_star_2 = - (covar_2/np.var(USq))\n",
        "  \n",
        "var_1 = np.var(X) - (c_star_1*covar_1)\n",
        "#print(var_1)\n",
        "var_2 = np.var(X) - (c_star_2*covar_2)\n",
        "\n",
        "print(\"Improved Estimator of using Control Variates\")\n",
        "print(\"Case A: U, value of pi is\", (4*np.mean(X)).round(4), \"with variance of\", var_1.round(4))\n",
        "print (\"Case B:U^2, value of pi is\", (4*np.mean(X)).round(4), \"with variance of\", var_2.round(4))\n"
      ],
      "execution_count": 0,
      "outputs": [
        {
          "output_type": "stream",
          "text": [
            "As per Crude Monte Carlo Method, value of pi is 3.1416 with variance of 0.1685\n",
            "Improved Estimator using Antithetic Variable, value of pi is 3.1416 with variance of 0.0069\n",
            "Improved Estimator of using Control Variates\n",
            "Case A: U, value of pi is 3.1416 with variance of 0.0498\n",
            "Case B:U^2, value of pi is 3.1416 with variance of 0.098\n"
          ],
          "name": "stdout"
        }
      ]
    }
  ]
}